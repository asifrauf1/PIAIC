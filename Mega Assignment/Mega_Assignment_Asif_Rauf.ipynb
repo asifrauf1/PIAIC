{
 "cells": [
  {
   "cell_type": "markdown",
   "metadata": {},
   "source": [
    "# Python Mega Assignment No. 1\n",
    "## Asif Rauf (PIAIC50717)\n",
    "### PIAIC BATCH # 3 ISLAMABAD\n",
    "### 9 am - 12 pm"
   ]
  },
  {
   "cell_type": "markdown",
   "metadata": {},
   "source": [
    "### 1- Which of the following terms are related to dictionaries? \n",
    "#### a. value \n",
    "#### b. item \n",
    "#### c. index \n",
    "#### d. key "
   ]
  },
  {
   "cell_type": "markdown",
   "metadata": {},
   "source": [
    "#### ------------------------------------------------------------------------------------------------------------------------------------------------\n",
    "#### Solution: option a and d are related to dictionary i.e. value and key\n",
    "#### ------------------------------------------------------------------------------------------------------------------------------------------------"
   ]
  },
  {
   "cell_type": "markdown",
   "metadata": {},
   "source": [
    "### 2- Just like lists, + operator is used to extend dictionaries? \n",
    "#### a. True \n",
    "#### b. False "
   ]
  },
  {
   "cell_type": "markdown",
   "metadata": {},
   "source": [
    "#### ------------------------------------------------------------------------------------------------------------------------------------------------\n",
    "#### Solution:  False, + operator cannot be used for dictionaries\n",
    "#### ------------------------------------------------------------------------------------------------------------------------------------------------"
   ]
  },
  {
   "cell_type": "markdown",
   "metadata": {},
   "source": [
    "### 3- To access items from a dictionary, we specify the index of that item within [] like myDict[0]? \n",
    "#### a. True \n",
    "#### b. False "
   ]
  },
  {
   "cell_type": "markdown",
   "metadata": {},
   "source": [
    "#### Solution: false, dictionary can be assessed through key instead of index"
   ]
  },
  {
   "cell_type": "markdown",
   "metadata": {},
   "source": [
    "### 4- When we use [] to access the value from a dictionary which does not exist in that dictionary….? \n",
    "#### a. Value within [] is added to the dictionary \n",
    "#### b. Value None is returned \n",
    "#### c. New dictionary is created \n",
    "#### d. None of above "
   ]
  },
  {
   "cell_type": "markdown",
   "metadata": {},
   "source": [
    "#### ------------------------------------------------------------------------------------------------------------------------------------------------\n",
    "#### Solution: d is the correct option, it will ressult in exception\n",
    "#### ------------------------------------------------------------------------------------------------------------------------------------------------"
   ]
  },
  {
   "cell_type": "markdown",
   "metadata": {},
   "source": [
    "### 5- What does return the pop method of a dictionary? \n",
    "#### a. list \n",
    "#### b. tuple containing the pair of last item of the dictionary \n",
    "#### c. dictionary \n",
    "#### d. value of the key, if it exists in the dictionary "
   ]
  },
  {
   "cell_type": "markdown",
   "metadata": {},
   "source": [
    "#### ------------------------------------------------------------------------------------------------------------------------------------------------\n",
    "#### Solution: d is the correct answer, it will return value of the key if it exists\n",
    "#### ------------------------------------------------------------------------------------------------------------------------------------------------"
   ]
  },
  {
   "cell_type": "markdown",
   "metadata": {},
   "source": [
    "### 6- What does return popitem method return? \n",
    "#### a. dictionary \n",
    "#### b. tupple containing the pair of last item of the dictionary  \n",
    "#### c. list \n",
    "#### d. value of key, if it exists in the dictionary "
   ]
  },
  {
   "cell_type": "markdown",
   "metadata": {},
   "source": [
    "#### ------------------------------------------------------------------------------------------------------------------------------------------------\n",
    "#### Solution: b is the correct answer, will return last item of dictionary as tupple\n",
    "#### ------------------------------------------------------------------------------------------------------------------------------------------------"
   ]
  },
  {
   "cell_type": "markdown",
   "metadata": {},
   "source": [
    "### 7- Which of the following 2 methods can be used to iterate through the items of a dictionary? \n",
    "#### a. items() \n",
    "#### b. values() \n",
    "#### c. indexes() \n",
    "#### d. keys()"
   ]
  },
  {
   "cell_type": "markdown",
   "metadata": {},
   "source": [
    "#### ------------------------------------------------------------------------------------------------------------------------------------------------\n",
    "#### Solution: b and d are correct options.\n",
    "#### ------------------------------------------------------------------------------------------------------------------------------------------------"
   ]
  },
  {
   "cell_type": "markdown",
   "metadata": {},
   "source": [
    "### 8- Which one of the following is used to enclose a dictionary? \n",
    "#### a. () parenthesis \n",
    "#### b. {} curly brackets \n",
    "#### c. [] square brackets\n",
    "#### d. “” quotation marks "
   ]
  },
  {
   "cell_type": "markdown",
   "metadata": {},
   "source": [
    "#### ------------------------------------------------------------------------------------------------------------------------------------------------\n",
    "#### Solution: b is the correct option i.e. curly brackets\n",
    "#### ------------------------------------------------------------------------------------------------------------------------------------------------"
   ]
  },
  {
   "cell_type": "markdown",
   "metadata": {},
   "source": [
    " ### 9- Write Python Program add key-value pair in dictionary and check if a Given Key or Value or Both Exists in a Dictionary or Not"
   ]
  },
  {
   "cell_type": "code",
   "execution_count": 1,
   "metadata": {},
   "outputs": [
    {
     "name": "stdout",
     "output_type": "stream",
     "text": [
      "Key exists and its value is: Rauf Sarwar\n"
     ]
    }
   ],
   "source": [
    "# Solution\n",
    "\n",
    "myDict = {\n",
    "    \"name\":\"Asif Rauf\",\n",
    "    \"fname\":\"Rauf Sarwar\",\n",
    "    \"course\":\"AIC\",\n",
    "    \"time\":\"9-12\"    \n",
    "         }\n",
    "\n",
    "wordtoCheck = 'fname'\n",
    "for key, value in myDict.items():\n",
    "    if key == wordtoCheck:\n",
    "        print(\"Key exists and its value is: \" + myDict[wordtoCheck])\n",
    "        break\n",
    "    elif value == wordtoCheck:\n",
    "        print (\"Value already exist in dictionary\")\n",
    "        break\n",
    "else:\n",
    "    print(\"This word does not exist in either of key or value\")\n",
    "    \n"
   ]
  },
  {
   "cell_type": "markdown",
   "metadata": {},
   "source": [
    "### 10- Write a Python Program to Count the Frequency of Words Appearing in a String Using a Dictionary and print only the words having Even (divisible by 2) frequency."
   ]
  },
  {
   "cell_type": "code",
   "execution_count": 2,
   "metadata": {},
   "outputs": [
    {
     "name": "stdout",
     "output_type": "stream",
     "text": [
      "name is found 2 times\n"
     ]
    }
   ],
   "source": [
    "myDict = {\n",
    "    \"name\":\"Asif Rauf\",\n",
    "    \"fname\":\"Rauf Sarwar\",\n",
    "    \"course\":\"AIC\",\n",
    "    \"time\":\"9-12\"    \n",
    "         }\n",
    "wordtoCheck = \"name\"\n",
    "count = 0\n",
    "for key, value in myDict.items():    \n",
    "    count += key.count(wordtoCheck)\n",
    "    count += value.count(wordtoCheck)\n",
    "if count % 2 == 0 :\n",
    "    print(wordtoCheck + \" is found \" + str(count) + \" times\")\n",
    "else:\n",
    "    print(\"We are only printing words with even frequency\")\n",
    "    "
   ]
  },
  {
   "cell_type": "markdown",
   "metadata": {},
   "source": [
    "### 11- X = [\"Feb\", Apr, Mar, May, Jun, Jul, Aug, Jan]. What will be output of following? \n",
    "#### X[0:3] \n",
    "#### X[2:8] \n",
    "#### X[4:9] \n",
    "#### X[1:7:2] \n",
    "#### X[-1:-7] \n",
    "#### X[-7:7] \n",
    "#### X[-1:-8:-2] \n",
    "#### X[:4] "
   ]
  },
  {
   "cell_type": "markdown",
   "metadata": {},
   "source": [
    "#### ------------------------------------------------------------------------------------------------------------------------------------------------\n",
    "#### Solution: output is as follows\n",
    "\n",
    "#### X[0:3] = [Feb, Apr, Mar]\n",
    "#### X[2:8] = [Mar, May, Jun, Jul, Aug, Jan]\n",
    "#### X[4:9] = [Jun, Jul, Aug, Jan]\n",
    "#### X[1:7:2] = [Apr,May,Jul]\n",
    "#### X[-1:-7]  = [ ] Since increment in +1 it will not return anything\n",
    "#### X[-7:7] = [Apr, Mar, May, Jun, Jul, Aug]\n",
    "#### X[-1:-8:-2] = [Jan,Jul,May,Apr]\n",
    "#### X[:4] = [Feb, Apr, Mar, May]\n",
    "#### ------------------------------------------------------------------------------------------------------------------------------------------------"
   ]
  },
  {
   "cell_type": "markdown",
   "metadata": {},
   "source": [
    "### 12-  Remove the correct number from the list X \n",
    "#### X = [ 9,2,8,4,5] \n",
    "#### X__?__ \n",
    "#### print (X) \n",
    "#### Output: [2,8,4,5] \n",
    "#### 1) .delete(9) \n",
    "#### 2) .rm(9) \n",
    "#### 3) .remove(9) "
   ]
  },
  {
   "cell_type": "markdown",
   "metadata": {},
   "source": [
    "#### ------------------------------------------------------------------------------------------------------------------------------------------------\n",
    "#### Solution: option 3 is correct i.e. X.remove(9)\n",
    "#### ------------------------------------------------------------------------------------------------------------------------------------------------"
   ]
  },
  {
   "cell_type": "markdown",
   "metadata": {},
   "source": [
    "### 13- p = 3 \n",
    "####      q = 'hello! ' \n",
    "####      print( q __?__ p)  \n",
    "####      hello! hello! hello! \n",
    "####      1) * \n",
    "####      2) ** \n",
    "####      3) +"
   ]
  },
  {
   "cell_type": "markdown",
   "metadata": {},
   "source": [
    "#### ------------------------------------------------------------------------------------------------------------------------------------------------\n",
    "#### Solution: 1 is the correct answer i.e. print(q*p)\n",
    "#### ------------------------------------------------------------------------------------------------------------------------------------------------"
   ]
  },
  {
   "cell_type": "markdown",
   "metadata": {},
   "source": [
    "### 14-  y = \"this is a random sentence\" \n",
    "#### print (y__?__) \n",
    "#### Output: THIS IS A RANDOM SENTENCE \n",
    "#### 1) .upper() \n",
    "#### 2) .upcase() \n",
    "#### 3) .capitalize() "
   ]
  },
  {
   "cell_type": "markdown",
   "metadata": {},
   "source": [
    "#### ------------------------------------------------------------------------------------------------------------------------------------------------\n",
    "#### Solution: 1 is the correct answer i.e. print(y.upper())\n",
    "#### ------------------------------------------------------------------------------------------------------------------------------------------------"
   ]
  },
  {
   "cell_type": "markdown",
   "metadata": {},
   "source": [
    "### 15-  p = True \n",
    "####       q = ‘True’ \n",
    "####       r = 2 \n",
    "####       r = 2.0 \n",
    "#### print(type(p)) \n",
    "#### print(type(q)) \n",
    "#### print(type(r)) \n",
    "#### print(type(s)) "
   ]
  },
  {
   "cell_type": "markdown",
   "metadata": {},
   "source": [
    "#### ------------------------------------------------------------------------------------------------------------------------------------------------\n",
    "#### Solution:\n",
    "\n",
    "#### print(type(p)) = bool\n",
    "#### print(type(q)) = string\n",
    "#### print(type(r)) = int\n",
    "#### print(type(s)) = float\n",
    "#### ------------------------------------------------------------------------------------------------------------------------------------------------"
   ]
  },
  {
   "cell_type": "markdown",
   "metadata": {},
   "source": [
    "### 16- What are the optional arguments to the function? \n",
    "#### function_1(R1, q, p=None, R2= None) \n",
    "#### 1) q and R2 \n",
    "#### 2) p and R2 \n",
    "#### 3) p and R1 \n",
    "#### 4) R1 and q "
   ]
  },
  {
   "cell_type": "markdown",
   "metadata": {},
   "source": [
    "#### ------------------------------------------------------------------------------------------------------------------------------------------------\n",
    "#### Solution: 2 is the correct option. R2 and p are optional as default values are supplied in function\n",
    "#### ------------------------------------------------------------------------------------------------------------------------------------------------"
   ]
  },
  {
   "cell_type": "markdown",
   "metadata": {},
   "source": [
    "### 17- Which command invokes method X() of the object p? \n",
    "#### 1) X(p) \n",
    "#### 2) p$x() \n",
    "#### 3) X().p \n",
    "#### 4) p.x() "
   ]
  },
  {
   "cell_type": "markdown",
   "metadata": {},
   "source": [
    "#### ------------------------------------------------------------------------------------------------------------------------------------------------\n",
    "#### Solution: 4 is the correct answer. i.e. p.x()\n",
    "#### ------------------------------------------------------------------------------------------------------------------------------------------------"
   ]
  },
  {
   "cell_type": "markdown",
   "metadata": {},
   "source": [
    "### 18- X=4 , Y= 2 \n",
    "#### print(X % Y) \n",
    "#### print(X / Y) \n",
    "#### print(X // Y) \n",
    "#### print(Y % X) "
   ]
  },
  {
   "cell_type": "markdown",
   "metadata": {},
   "source": [
    "#### ------------------------------------------------------------------------------------------------------------------------------------------------\n",
    "#### Solution:\n",
    "\n",
    "#### print(X % Y) = 0\n",
    "#### print(X / Y) = 2.0\n",
    "#### print(X // Y) = 2\n",
    "#### print(Y % X)  = 2\n",
    "#### ------------------------------------------------------------------------------------------------------------------------------------------------"
   ]
  },
  {
   "cell_type": "markdown",
   "metadata": {},
   "source": [
    "### 19(a)- x = [[4, 1, 1], [5, 9, 0]] \n",
    "#### for i in __?__: \n",
    "####     for j in  __?__: \n",
    "####        ? \n",
    "#### Output:  4 \n",
    "####   1 \n",
    "####   1 \n",
    "####   5 \n",
    "####   9 \n",
    "####   0 "
   ]
  },
  {
   "cell_type": "code",
   "execution_count": 3,
   "metadata": {},
   "outputs": [
    {
     "name": "stdout",
     "output_type": "stream",
     "text": [
      "4\n",
      "1\n",
      "1\n",
      "5\n",
      "9\n",
      "0\n"
     ]
    }
   ],
   "source": [
    "# Solution\n",
    "x = [[4, 1, 1], [5, 9, 0]]\n",
    "for i in x:\n",
    "    for j in i:\n",
    "        print(j)\n",
    "            "
   ]
  },
  {
   "cell_type": "markdown",
   "metadata": {},
   "source": [
    "### 19(b) - x = [[4, 1, 1], [5, 9, 0]] \n",
    "#### for i in __?__: \n",
    "####     for j in  __?__: \n",
    "####        ? \n",
    "#### Output:  4 5 \n",
    "####   1 9 \n",
    "####   1 0 "
   ]
  },
  {
   "cell_type": "code",
   "execution_count": 4,
   "metadata": {},
   "outputs": [
    {
     "name": "stdout",
     "output_type": "stream",
     "text": [
      "range(0, 3)\n",
      "4 5 \n",
      "1 9 \n",
      "1 0 \n"
     ]
    }
   ],
   "source": [
    "# Solution\n",
    "x = [[4, 1, 1], [5, 9, 0]]\n",
    "print (range(len(x[0])))\n",
    "for i in range(len(x[0])):\n",
    "    for j in x:\n",
    "        print(j[i], end =\" \")\n",
    "    print('')\n",
    "    "
   ]
  },
  {
   "cell_type": "markdown",
   "metadata": {},
   "source": [
    "### 19(c)- x = [[4, 1, 1], [5, 9, 0]] \n",
    "#### for i in __?__: \n",
    "####     for j in  __?__: \n",
    "####        ? \n",
    "#### Output:  4 1 1 5 9 0 "
   ]
  },
  {
   "cell_type": "code",
   "execution_count": 5,
   "metadata": {},
   "outputs": [
    {
     "name": "stdout",
     "output_type": "stream",
     "text": [
      "4 1 1 5 9 0 "
     ]
    }
   ],
   "source": [
    "# Solution\n",
    "x = [[4, 1, 1], [5, 9, 0]]\n",
    "for i in x:\n",
    "    for j in i:\n",
    "        print(j, end=' ')"
   ]
  },
  {
   "cell_type": "markdown",
   "metadata": {},
   "source": [
    "### 19(d)- x = [[4, 1, 1], [5, 9, 0]] \n",
    "#### for i in __?__: \n",
    "####     for j in  __?__: \n",
    "####        ? \n",
    "#### Output:  4 1 1 \n",
    "####   5 9 0 "
   ]
  },
  {
   "cell_type": "code",
   "execution_count": 6,
   "metadata": {},
   "outputs": [
    {
     "name": "stdout",
     "output_type": "stream",
     "text": [
      "4 1 1 \n",
      "5 9 0 \n"
     ]
    }
   ],
   "source": [
    "# Solution\n",
    "x = [[4, 1, 1], [5, 9, 0]]\n",
    "for i in x:\n",
    "    for j in i:\n",
    "        print(j, end=' ')\n",
    "    print('')"
   ]
  },
  {
   "cell_type": "markdown",
   "metadata": {},
   "source": [
    "### 20- q = [10.62, 16.14, 6.45, 17.11] \n",
    "#### for __?__, z in enumerate (q) : \n",
    "####     print( ‘Item ‘ + str( j ) + ‘  - ‘, str ( z )) \n",
    "#### Output:  Item 0 – 10.62 \n",
    "####   Item 1 – 16.14 \n",
    "####   Item 2 – 6.45 \n",
    "####   Item 3 – 17.11 \n",
    "#### 1) z \n",
    "#### 2) i \n",
    "#### 3) j \n",
    "#### 4) x \n",
    "#### 5) k \n",
    "#### 6) y "
   ]
  },
  {
   "cell_type": "markdown",
   "metadata": {},
   "source": [
    "#### ------------------------------------------------------------------------------------------------------------------------------------------------\n",
    "#### Solution: 3 is the correct answer i.e. j\n",
    "#### ------------------------------------------------------------------------------------------------------------------------------------------------"
   ]
  },
  {
   "cell_type": "markdown",
   "metadata": {},
   "source": [
    "### 21-  Which of these about a dictionary is false? \n",
    "#### a) The values of a dictionary can be accessed using keys \n",
    "#### b) The keys of a dictionary can be accessed using values \n",
    "#### c) Dictionaries aren’t ordered \n",
    "#### d) Dictionaries are mutable \n"
   ]
  },
  {
   "cell_type": "markdown",
   "metadata": {},
   "source": [
    "#### ------------------------------------------------------------------------------------------------------------------------------------------------\n",
    "#### Solution: b is the correct answer\n",
    "#### ------------------------------------------------------------------------------------------------------------------------------------------------"
   ]
  },
  {
   "cell_type": "markdown",
   "metadata": {},
   "source": [
    "### 22-  What is the output of the following: \n",
    "#### D = dict()  \n",
    "#### for i in range (3):  \n",
    "####         for j in range(2):  \n",
    "####              D[i] = j  \n",
    "#### a. {0: 1, 1: 1, 2: 1} \n",
    "#### b. {1: 0, 1: 1, 1: 2} \n",
    "#### c. {0: 1, 1: 2, 2: 3} \n",
    "#### d. {1: 2, 1: 1, 1: 0} "
   ]
  },
  {
   "cell_type": "markdown",
   "metadata": {},
   "source": [
    "#### ------------------------------------------------------------------------------------------------------------------------------------------------\n",
    "#### Solution: option a is the correct answer, against all values of 1st for loop last value of inner loop will be added i.e 1\n",
    "#### ------------------------------------------------------------------------------------------------------------------------------------------------"
   ]
  },
  {
   "cell_type": "markdown",
   "metadata": {},
   "source": [
    "### 23- You are writing a function that increments player score in a soccer game \n",
    "####  If no value is specified for points, then point must start with 1 \n",
    "####  If no value is specified for bonus, then bonus should be True \n",
    "####  01   def increment_score ( bonus , score , points ): \n",
    "###  To meet the first requirement line 01 must be change to \n",
    "####  def increment_score ( bonus , score , points = 1 ):           (True or False) \n",
    "### To meet the second requirement line 01 must be change to \n",
    "####  def increment_score ( bonus = True , score , points = 1 ):   (True or False) \n",
    "####  Once a parameter is defined with default value, any parameter to the right must also be defined with default values       (True or False)"
   ]
  },
  {
   "cell_type": "markdown",
   "metadata": {},
   "source": [
    "#### ------------------------------------------------------------------------------------------------------------------------------------------------\n",
    "#### Solution: \n",
    "\n",
    "#### To meet the first requirement line 01 must be change to \"def increment_score ( bonus , score , points = 1 )\": True - Points have set default value to 1\n",
    "#### To meet the second requirement line 01 must be changed to \"def increment_score ( bonus = True , score , points = 1 )\": False, it will generate error\n",
    "#### Once a parameter is defined with default value, any parameter to the right must also be defined with default values: True, once a parameter is defined with default value, all other parameters to right should also be defined with default value else it will give error\n",
    "#### ------------------------------------------------------------------------------------------------------------------------------------------------"
   ]
  },
  {
   "cell_type": "markdown",
   "metadata": {},
   "source": [
    "### 24- What will be output? \n",
    "####  def avg ( x , y , z = 50 ): \n",
    "#### adding = x + y + z \n",
    "#### avg_value = adding / 3 \n",
    "#### return avg_value \n",
    "####  y = avg ( x = 5 , y = 9 , z = 20 ) \n",
    "####  print(y) "
   ]
  },
  {
   "cell_type": "markdown",
   "metadata": {},
   "source": [
    "#### ------------------------------------------------------------------------------------------------------------------------------------------------\n",
    "#### Solution: output of above block will be 11.33\n",
    "#### ------------------------------------------------------------------------------------------------------------------------------------------------"
   ]
  },
  {
   "cell_type": "markdown",
   "metadata": {},
   "source": [
    "### 25- What will be output? Describe it with reason and logic behind. Do multiple experiments with arguments / parameters to remove error, if occurs. \n",
    "#### def avg ( *opt_values , name ): \n",
    "####   avg_value = sum (opt_values) / len(opt_values) \n",
    " #### print(‘name is: ’ + name + ‘Marks: ’ + str(avg_value)) \n",
    "#### avg ( 5 , 9 , 20, 34, 87, 112 , ‘Ali’ ) "
   ]
  },
  {
   "cell_type": "markdown",
   "metadata": {},
   "source": [
    "#### ------------------------------------------------------------------------------------------------------------------------------------------------\n",
    "#### Solution\n",
    "#### It will generate error as * is used with first parameter means this parameters will have multiple values and after that there is a name parameter. here interpreter cannot distinguish name parameter since opt_values will have unknown number of values\n",
    "\n",
    "#### To remove error we can rewrite the function by swapping both parametrs like defined below\n",
    "#### def avg (name, *opt_values ):\n",
    "#### avg_value = sum (opt_values) / len(opt_values) \n",
    "####    print(\"name is: \" + name + \" Marks: \" + str(avg_value)) \n",
    "    \n",
    "#### avg( 'Ali',5 , 9 , 20, 34, 87, 112  )\n",
    "#### Now output will be: name is Ali Marks: 44.5\n",
    "#### ------------------------------------------------------------------------------------------------------------------------------------------------"
   ]
  },
  {
   "cell_type": "markdown",
   "metadata": {},
   "source": [
    "### 26-  Final output is not required. Just take copy pencil, think and write the output of each line, write down the link between parameters and arguments. Remove one or two ** from other_info and observe the ouput. \n",
    "#### def display_result(winner, score, **other_info): \n",
    " #### print(\"The winner was \" + winner) \n",
    " #### print(\"The score was \" + score) \n",
    "####  display_result(winner=“Manchester\", score=\"1-0\", overtime =\"yes\", injuries=\"none\") "
   ]
  },
  {
   "cell_type": "markdown",
   "metadata": {},
   "source": [
    "#### ------------------------------------------------------------------------------------------------------------------------------------------------\n",
    "#### Solution: output will be as below\n",
    "#### =>The winner was Manchester\n",
    "#### =>The score was 1-0\n",
    "\n",
    "#### First two parameters are fixed, after that you can add multiple keyword arguments while invoking function.\n",
    "#### if we remove one or two * than this code will give error as overtime and injuries argument will not be defined\n",
    "\n",
    "#### ------------------------------------------------------------------------------------------------------------------------------------------------"
   ]
  },
  {
   "cell_type": "markdown",
   "metadata": {},
   "source": [
    "### 27- The position of parameters and arguments is re-arranged. Just think and find the logic behind output or error. \n",
    "#### def display_result(winner, **other_info, score): \n",
    "#### print(\"The winner was \" + winner) \n",
    "#### print(\"The score was \" + score) \n",
    "#### display_result(winner=“Manchester\", overtime =\"yes\", injuries=\"none“ , score=\"1-0“ )"
   ]
  },
  {
   "cell_type": "markdown",
   "metadata": {},
   "source": [
    "#### ------------------------------------------------------------------------------------------------------------------------------------------------\n",
    "#### Solution: This will result in an error, because there is a muliple keyword argument defined left to the fixed parameter. Interpreter cannot distinguish between fixed and variable keyword arguments\n",
    "#### ------------------------------------------------------------------------------------------------------------------------------------------------"
   ]
  },
  {
   "cell_type": "markdown",
   "metadata": {},
   "source": [
    "### 28- What will be the output of the following Python expression if X=123? \n",
    " \n",
    "#### print(“%06d”%X) \n",
    "#### a) 123000 \n",
    "#### b) 000123 \n",
    "#### c) 000000123 \n",
    "#### d) 123000000 "
   ]
  },
  {
   "cell_type": "markdown",
   "metadata": {},
   "source": [
    "#### ------------------------------------------------------------------------------------------------------------------------------------------------\n",
    "#### Solution: b is the correct option, it will append 3 0's to start to format length to 6\n",
    "#### ------------------------------------------------------------------------------------------------------------------------------------------------\n"
   ]
  },
  {
   "cell_type": "markdown",
   "metadata": {},
   "source": [
    "### 29- What will be the output of the following Python expression if x=22.19? \n",
    "#### print(\"%5.2f\"%x) \n",
    "#### a) 22.1900 \n",
    "#### b) 22.00000 \n",
    "#### c) 22.19 \n",
    "#### d) 22.20 "
   ]
  },
  {
   "cell_type": "markdown",
   "metadata": {},
   "source": [
    "#### ------------------------------------------------------------------------------------------------------------------------------------------------\n",
    "#### Solution: c is the correct option\n",
    "#### ------------------------------------------------------------------------------------------------------------------------------------------------"
   ]
  },
  {
   "cell_type": "markdown",
   "metadata": {},
   "source": [
    "### 30-  What will be the output of the following Python code? \n",
    "##### '{0:f}, {1:2f}, {2:05.2f}'.format(1.23456, 1.23456, 1.23456) \n",
    "#### a) Error \n",
    "#### b) ‘1.234560, 1.22345, 1.23’ \n",
    "#### c) No output \n",
    "#### d) ‘1.234560, 1.234560, 01.23’ "
   ]
  },
  {
   "cell_type": "markdown",
   "metadata": {},
   "source": [
    "#### ------------------------------------------------------------------------------------------------------------------------------------------------\n",
    "#### Solution: d is the correct option\n",
    "#### ------------------------------------------------------------------------------------------------------------------------------------------------"
   ]
  },
  {
   "cell_type": "markdown",
   "metadata": {},
   "source": [
    "### 31- Write down the output of each line after each iterations. Do multiple experiments to change values \n",
    "#### i = 1 \n",
    "#### while False: \n",
    "####    if i%2 == 0: \n",
    "####        break \n",
    "####    print(i) \n",
    "####    i += 2 "
   ]
  },
  {
   "cell_type": "markdown",
   "metadata": {},
   "source": [
    "#### ------------------------------------------------------------------------------------------------------------------------------------------------\n",
    "#### Solution: Currently it will print nothing as while loop while not start due to false in condition\n",
    "\n",
    "#### If we change false to true, it will continue loop indefinitely because break condition will never be met.\n",
    "\n",
    "#### If we change loop condition to true and set i to even number still it will print nothing as loop will break on first if condition without printing i\n",
    "#### ------------------------------------------------------------------------------------------------------------------------------------------------"
   ]
  },
  {
   "cell_type": "markdown",
   "metadata": {},
   "source": [
    "### 32- Write down the output of each line after each iterations. Do multiple experiments to change values \n",
    "#### x = \"abcdef\" \n",
    "#### i = \"a\" \n",
    "#### while i in x: \n",
    "####    x = x[:-1] \n",
    "####    print(i, end = \" \") "
   ]
  },
  {
   "cell_type": "markdown",
   "metadata": {},
   "source": [
    "#### ------------------------------------------------------------------------------------------------------------------------------------------------\n",
    "#### Solution: Out put will be \n",
    "#### a a a a a a\n",
    "\n",
    "#### It will take six iterations to completely remove a from string, so six times it enter in loop and will print a\n",
    "#### ------------------------------------------------------------------------------------------------------------------------------------------------"
   ]
  },
  {
   "cell_type": "markdown",
   "metadata": {},
   "source": [
    "### 33- Write down the output of each line after each iterations. Do multiple experiments to change values \n",
    "#### for i in ''.join(reversed(list('abcd'))): \n",
    "####    print (i) "
   ]
  },
  {
   "cell_type": "markdown",
   "metadata": {},
   "source": [
    "#### ------------------------------------------------------------------------------------------------------------------------------------------------\n",
    "#### Solution: output will be as\n",
    "#### d\n",
    "#### c\n",
    "#### b\n",
    "#### a\n",
    "\n",
    "#### list(abcd) will create list [a,b,c,d] whereas reversed will reverse this list and for loop in each iteration will return one character starting from d as list is reversed.\n",
    "#### ------------------------------------------------------------------------------------------------------------------------------------------------"
   ]
  },
  {
   "cell_type": "markdown",
   "metadata": {},
   "source": [
    "### 34-  Flow of the program. Write the output of each line after every iteration of ‘i’ \n",
    "#### for i in range(10): \n",
    "####    if i == 5: \n",
    "####        break \n",
    "####    else: \n",
    "####        print(i) \n",
    "#### else: \n",
    "####    print(\"Here\") "
   ]
  },
  {
   "cell_type": "markdown",
   "metadata": {},
   "source": [
    "#### ------------------------------------------------------------------------------------------------------------------------------------------------\n",
    "#### Solution: Output will be as follows\n",
    "#### 0\n",
    "#### 1\n",
    "#### 2\n",
    "#### 3\n",
    "#### 4\n",
    "\n",
    "#### range(10) will give range from 0 to 9, on each iteration of i from 0 to 4 it will print i, when i = 5 if condition will be true and loop will be breaked. Last else containt print('Here') it will only execute if all for loop executed successfully without breaking the loop which is not the case in above block\n",
    "#### ------------------------------------------------------------------------------------------------------------------------------------------------"
   ]
  },
  {
   "cell_type": "markdown",
   "metadata": {},
   "source": [
    "### 35-  What is the output? And understand the functionality of lambda function \n",
    "#### y = 6 \n",
    "#### z = lambda x: x * y \n",
    "#### print z(8) "
   ]
  },
  {
   "cell_type": "markdown",
   "metadata": {},
   "source": [
    "#### ------------------------------------------------------------------------------------------------------------------------------------------------\n",
    "#### Solution: output of above code will be: 48\n",
    "\n",
    "#### In above code print was without brackets which will give error so I assumed that brackets are there\n",
    "#### ------------------------------------------------------------------------------------------------------------------------------------------------"
   ]
  },
  {
   "cell_type": "markdown",
   "metadata": {},
   "source": [
    "### 36-  Write output and give proper logic of whatever the output comes. \n",
    "#### i=0 \n",
    "#### def change(i): \n",
    "####   i=i+1 \n",
    "####   return i \n",
    "#### change(1) \n",
    "#### print(i) "
   ]
  },
  {
   "cell_type": "markdown",
   "metadata": {},
   "source": [
    "#### ------------------------------------------------------------------------------------------------------------------------------------------------\n",
    "#### Solution: Output will be 0\n",
    "\n",
    "#### function argument i is a local variable and its scope is within the function and no impact over variable defined out of the function\n",
    "#### ------------------------------------------------------------------------------------------------------------------------------------------------"
   ]
  },
  {
   "cell_type": "markdown",
   "metadata": {},
   "source": [
    "### 40-  What will be output? Define this output clearly \n",
    "#### def change(one, *two): \n",
    "####   print(type(two)) \n",
    "####   print(two) \n",
    "#### change(1,2,3,4)"
   ]
  },
  {
   "cell_type": "markdown",
   "metadata": {},
   "source": [
    "#### ------------------------------------------------------------------------------------------------------------------------------------------------\n",
    "#### Solution: output will be\n",
    "#### <class,tuple>\n",
    "#### (2,3,4)\n",
    "\n",
    "#### *two will take multi value arguments separated by comma which will be a tupple here\n",
    "#### ------------------------------------------------------------------------------------------------------------------------------------------------"
   ]
  },
  {
   "cell_type": "markdown",
   "metadata": {},
   "source": [
    "### 41-  What will be output? Define this output clearly \n",
    "#### def find(a, **b): \n",
    "####    print(type(b)) \n",
    "#### find('letters',A='1',B='2') "
   ]
  },
  {
   "cell_type": "markdown",
   "metadata": {},
   "source": [
    "#### ------------------------------------------------------------------------------------------------------------------------------------------------\n",
    "#### Solution: Output will be\n",
    "#### <class, dict>\n",
    "\n",
    "#### since **b expects multipe keyword argument that will be in key value form so it will be stored as a dictionary\n",
    "#### ------------------------------------------------------------------------------------------------------------------------------------------------"
   ]
  },
  {
   "cell_type": "markdown",
   "metadata": {},
   "source": [
    "### 42-  Write output and define each line’s output for each iteration of ‘i’ \n",
    "#### def foo(i, x=[]): \n",
    "####    x.append(i) \n",
    "####    return x \n",
    "#### for i in range(3): \n",
    "####    print(foo(i)) "
   ]
  },
  {
   "cell_type": "markdown",
   "metadata": {},
   "source": [
    "#### ------------------------------------------------------------------------------------------------------------------------------------------------\n",
    "#### Solution: Output will be\n",
    "#### [0]\n",
    "#### [0,1]\n",
    "#### [0,1,2]\n",
    "\n",
    "#### since loop will run for range 0 to 2, it will append i to list each time loop executes, since we are not sending optional list parameter so it is using default argument which is maintining its state on each call\n",
    "#### ------------------------------------------------------------------------------------------------------------------------------------------------"
   ]
  },
  {
   "cell_type": "markdown",
   "metadata": {},
   "source": [
    "### 43-  Evaluate the following Python arithmetic expression: and write which segment will execute first? (Brackets, Exponents, Multiplication, Addition / Subtraction, Left to right rule) \n",
    "#### (3*(1+2)**2-(2**2)*3)"
   ]
  },
  {
   "cell_type": "markdown",
   "metadata": {},
   "source": [
    "#### ------------------------------------------------------------------------------------------------------------------------------------------------\n",
    "#### Solution: \n",
    "#### (3*(1+2)**2-(2**2)*3) = (3*3**2-4*3) = (3*9-4*3) = (27-12) = 15\n",
    "\n",
    "#### Inner brackets will be evaluated first then exponents will be executed, next multiplication will take place and finally subtraction \n",
    "#### ------------------------------------------------------------------------------------------------------------------------------------------------"
   ]
  },
  {
   "cell_type": "markdown",
   "metadata": {},
   "source": [
    "### 44- You are creating a function that manipulates a number. The function has the following requirements: \n",
    "- A float is passed into the function \n",
    "- The function must take the absolute value of the float  \n",
    "- Any decimal points after the integer must be removed \n",
    "####  A. math.fmod(x) \n",
    "####  B. math.frexp(x) \n",
    "####  C. math.floor(x) \n",
    "####  D. math.ceil(x) \n",
    "####  E. math.fabs(x)"
   ]
  },
  {
   "cell_type": "markdown",
   "metadata": {},
   "source": [
    "#### ------------------------------------------------------------------------------------------------------------------------------------------------\n",
    "#### Solution: E and C\n",
    "\n",
    "#### first we will get the absolute value through fabs(x) and then will take the floor(x) to remove the decimal values\n",
    "#### ------------------------------------------------------------------------------------------------------------------------------------------------"
   ]
  },
  {
   "cell_type": "markdown",
   "metadata": {},
   "source": [
    "### 45- You are writing code that generates a random integer with a minimum value of 5 and a maximum value of 11. \n",
    "#### Which two functions should you use? Each correct answer presents a complete solution. (Choose two.) \n",
    "#### A. random.randint(5, 12) \n",
    "#### B. random.randint(5, 11) \n",
    "#### C. random.randrange(5, 12, 1) \n",
    "#### D. random.randrange(5, 11, 1) \n",
    " "
   ]
  },
  {
   "cell_type": "markdown",
   "metadata": {},
   "source": [
    "#### ------------------------------------------------------------------------------------------------------------------------------------------------\n",
    "#### Solution: B and C are the correct options\n",
    "\n",
    "#### for randint(x,y), y is also included\n",
    "#### for randrange(x,y), y is not included\n",
    "#### ------------------------------------------------------------------------------------------------------------------------------------------------"
   ]
  },
  {
   "cell_type": "markdown",
   "metadata": {},
   "source": [
    "### 46-  Write a program that receives marks from user and check the grade. \n",
    "####  Marks greater than equal to 90 then A grade \n",
    "####  Marks between 80 to 90, B grade \n",
    "####  Marks between 70 to 80, C grade \n",
    "####  Marks between 60 to 70, D grade \n",
    "####  Marks less than equal to 60 then E grade "
   ]
  },
  {
   "cell_type": "code",
   "execution_count": 7,
   "metadata": {},
   "outputs": [
    {
     "name": "stdout",
     "output_type": "stream",
     "text": [
      "Please enter marks(out of 100):80\n",
      "Good! B Grade.\n"
     ]
    }
   ],
   "source": [
    "# Solution\n",
    "marks = int(input(\"Please enter marks(out of 100):\"))\n",
    "if marks > 100:\n",
    "    print(\"Invalid marks entered, max 100 allowed!\")\n",
    "elif marks >= 90:\n",
    "    print (\"Excellent! A Grade.\")\n",
    "elif marks >= 80 and marks < 90:\n",
    "    print (\"Good! B Grade.\")\n",
    "elif marks >= 70 and marks < 80:\n",
    "    print(\"Fair! C Grade.\")\n",
    "elif marks >= 60 and marks < 70:\n",
    "    print(\"Satisfactory! D Grade.\")\n",
    "elif marks < 60:\n",
    "    print(\"E Grade.\")"
   ]
  }
 ],
 "metadata": {
  "kernelspec": {
   "display_name": "Python 3",
   "language": "python",
   "name": "python3"
  },
  "language_info": {
   "codemirror_mode": {
    "name": "ipython",
    "version": 3
   },
   "file_extension": ".py",
   "mimetype": "text/x-python",
   "name": "python",
   "nbconvert_exporter": "python",
   "pygments_lexer": "ipython3",
   "version": "3.7.4"
  }
 },
 "nbformat": 4,
 "nbformat_minor": 2
}
