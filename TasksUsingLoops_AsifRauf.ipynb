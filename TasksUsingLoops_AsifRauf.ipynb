{
 "cells": [
  {
   "cell_type": "markdown",
   "metadata": {},
   "source": [
    "# Task # 1\n",
    "* Input 3 values (name, father, contact No.) from user\n",
    "* Add values in a list\n",
    "* Continue getting input on user input 'y' and exit on other key\n",
    "* On Exit print list of lists that were inputted by user\n"
   ]
  },
  {
   "cell_type": "code",
   "execution_count": 1,
   "metadata": {},
   "outputs": [
    {
     "name": "stdout",
     "output_type": "stream",
     "text": [
      "Do you want to add value (y for yes/other key for exit):y\n",
      "Name:Asif Rauf\n",
      "Father Name:Rauf Sarwar\n",
      "Contact:03331234567\n",
      "Do you want to add value (y for yes/other key for exit):n\n",
      "[['Asif Rauf', 'Rauf Sarwar', '03331234567']]\n"
     ]
    }
   ],
   "source": [
    "addVal = input(\"Do you want to add value (y for yes/other key for exit):\")\n",
    "Destlist = []\n",
    "names = []\n",
    "while addVal == 'y':\n",
    "    names=[]\n",
    "    names.append(input(\"Name:\"))\n",
    "    names.append(input(\"Father Name:\"))\n",
    "    names.append(input(\"Contact:\"))\n",
    "    Destlist.append(names)\n",
    "    addVal = input(\"Do you want to add value (y for yes/other key for exit):\")\n",
    "print(Destlist)\n",
    "\n",
    "    \n",
    "    "
   ]
  },
  {
   "cell_type": "markdown",
   "metadata": {},
   "source": [
    "# Tasks\n",
    "### 1. Print 1000 to 990 with (while and for loop)"
   ]
  },
  {
   "cell_type": "code",
   "execution_count": 2,
   "metadata": {},
   "outputs": [
    {
     "name": "stdout",
     "output_type": "stream",
     "text": [
      "1000\n",
      "999\n",
      "998\n",
      "997\n",
      "996\n",
      "995\n",
      "994\n",
      "993\n",
      "992\n",
      "991\n",
      "990\n"
     ]
    }
   ],
   "source": [
    "counter = 1000\n",
    "while counter>=990:\n",
    "    print(counter)\n",
    "    counter-=1"
   ]
  },
  {
   "cell_type": "code",
   "execution_count": 3,
   "metadata": {},
   "outputs": [
    {
     "name": "stdout",
     "output_type": "stream",
     "text": [
      "range(1000, 990)\n"
     ]
    }
   ],
   "source": [
    "print(range(1000,990))"
   ]
  },
  {
   "cell_type": "code",
   "execution_count": 4,
   "metadata": {},
   "outputs": [
    {
     "name": "stdout",
     "output_type": "stream",
     "text": [
      "1000\n",
      "999\n",
      "998\n",
      "997\n",
      "996\n",
      "995\n",
      "994\n",
      "993\n",
      "992\n",
      "991\n",
      "990\n"
     ]
    }
   ],
   "source": [
    "for i in range(1000,989,-1):\n",
    "    print(i)"
   ]
  },
  {
   "cell_type": "markdown",
   "metadata": {},
   "source": [
    "### 2. with ascii code 65-90, 97-122, 48-57 print characters base on above range with for loop\n",
    "\n",
    "A a 0\n",
    "\n",
    "B b 1\n",
    "\n",
    "C c 2"
   ]
  },
  {
   "cell_type": "code",
   "execution_count": 12,
   "metadata": {},
   "outputs": [
    {
     "name": "stdout",
     "output_type": "stream",
     "text": [
      "A a 0\n",
      "B b 1\n",
      "C c 2\n",
      "D d 3\n",
      "E e 4\n",
      "F f 5\n",
      "G g 6\n",
      "H h 7\n",
      "I i 8\n",
      "J j 9\n",
      "K k  \n",
      "L l  \n",
      "M m  \n",
      "N n  \n",
      "O o  \n",
      "P p  \n",
      "Q q  \n",
      "R r  \n",
      "S s  \n",
      "T t  \n",
      "U u  \n",
      "V v  \n",
      "W w  \n",
      "X x  \n",
      "Y y  \n",
      "Z z  \n"
     ]
    }
   ],
   "source": [
    "AsciiList = [list(range(65,91)), list(range(97,123)), list(range(48,58))]\n",
    "c = 0\n",
    "while c< len(AsciiList[0]):    \n",
    "    print(chr(AsciiList[0][c]),chr(AsciiList[1][c]),\\\n",
    "          (chr(AsciiList[2][c]) if c < len(AsciiList[2]) else chr(32)))\n",
    "    c+=1\n"
   ]
  },
  {
   "cell_type": "markdown",
   "metadata": {},
   "source": [
    "### 3- Take input from user if user enter 3 then your output will be as\n",
    "##### 1x1=1   2x1=2   3x1=3\n",
    "##### 1x2=2   2x2=4   3x2=6\n",
    "##### .......................\n",
    "##### .......................\n",
    "##### .......................\n",
    "##### 1x10=10 2x10=20 3x10=30"
   ]
  },
  {
   "cell_type": "code",
   "execution_count": 13,
   "metadata": {},
   "outputs": [
    {
     "name": "stdout",
     "output_type": "stream",
     "text": [
      "Please Enter some number (0-9):4\n",
      "1 x 1 = 1\t2 x 1 = 2\t3 x 1 = 3\t4 x 1 = 4\n",
      "1 x 2 = 2\t2 x 2 = 4\t3 x 2 = 6\t4 x 2 = 8\n",
      "1 x 3 = 3\t2 x 3 = 6\t3 x 3 = 9\t4 x 3 = 12\n",
      "1 x 4 = 4\t2 x 4 = 8\t3 x 4 = 12\t4 x 4 = 16\n",
      "1 x 5 = 5\t2 x 5 = 10\t3 x 5 = 15\t4 x 5 = 20\n",
      "1 x 6 = 6\t2 x 6 = 12\t3 x 6 = 18\t4 x 6 = 24\n",
      "1 x 7 = 7\t2 x 7 = 14\t3 x 7 = 21\t4 x 7 = 28\n",
      "1 x 8 = 8\t2 x 8 = 16\t3 x 8 = 24\t4 x 8 = 32\n",
      "1 x 9 = 9\t2 x 9 = 18\t3 x 9 = 27\t4 x 9 = 36\n",
      "1 x 10 = 10\t2 x 10 = 20\t3 x 10 = 30\t4 x 10 = 40\n"
     ]
    }
   ],
   "source": [
    "number = input(\"Please Enter some number (0-9):\")\n",
    "for a in range(1,11):\n",
    "    for b in range(1,int(number)+1):\n",
    "        if b==int(number):\n",
    "            endchr = '\\n'\n",
    "        else:\n",
    "            endchr='\\t'\n",
    "        print(str(b)+ ' x '+ str(a)+' = ' + str(a*b), end=endchr)"
   ]
  },
  {
   "cell_type": "raw",
   "metadata": {},
   "source": []
  },
  {
   "cell_type": "markdown",
   "metadata": {},
   "source": [
    "### 4- From the givem list find row and column index of each which is divisible by 5"
   ]
  },
  {
   "cell_type": "raw",
   "metadata": {},
   "source": [
    "[[2,5,9],\n",
    "[8,9,10],\n",
    "[20,30,27],\n",
    "[35,9,20]]\n",
    "\n",
    "[[(0,1)]]\n",
    "[(1,2)]\n",
    "[(2,0),(2,1)]\n",
    "[(3,0),(3,2)]"
   ]
  },
  {
   "cell_type": "code",
   "execution_count": 14,
   "metadata": {},
   "outputs": [
    {
     "data": {
      "text/plain": [
       "[(0, 3), (1, 4), (2, 5)]"
      ]
     },
     "execution_count": 14,
     "metadata": {},
     "output_type": "execute_result"
    }
   ],
   "source": [
    "list (enumerate([3,4,5]))"
   ]
  },
  {
   "cell_type": "code",
   "execution_count": 15,
   "metadata": {},
   "outputs": [
    {
     "name": "stdout",
     "output_type": "stream",
     "text": [
      "(0, 1) \n",
      "(1, 2) \n",
      "(2, 0) (2, 1) \n",
      "(3, 0) (3, 2) \n"
     ]
    }
   ],
   "source": [
    "l=[[2,5,9],\n",
    "[8,9,10],\n",
    "[20,30,27],\n",
    "[35,9,20]]\n",
    "\n",
    "for ri, r in enumerate(l):\n",
    "    for ci,c in enumerate(r):\n",
    "        if(c%5==0):\n",
    "            print((ri,ci),end=\" \")\n",
    "    print()"
   ]
  }
 ],
 "metadata": {
  "kernelspec": {
   "display_name": "Python 3",
   "language": "python",
   "name": "python3"
  },
  "language_info": {
   "codemirror_mode": {
    "name": "ipython",
    "version": 3
   },
   "file_extension": ".py",
   "mimetype": "text/x-python",
   "name": "python",
   "nbconvert_exporter": "python",
   "pygments_lexer": "ipython3",
   "version": "3.7.4"
  }
 },
 "nbformat": 4,
 "nbformat_minor": 2
}
